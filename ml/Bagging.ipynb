{
 "cells": [
  {
   "cell_type": "code",
   "execution_count": 1,
   "id": "94857c12",
   "metadata": {
    "_cell_guid": "b1076dfc-b9ad-4769-8c92-a6c4dae69d19",
    "_uuid": "8f2839f25d086af736a60e9eeb907d3b93b6e0e5",
    "execution": {
     "iopub.execute_input": "2024-04-09T15:42:37.498443Z",
     "iopub.status.busy": "2024-04-09T15:42:37.497697Z",
     "iopub.status.idle": "2024-04-09T15:42:39.818353Z",
     "shell.execute_reply": "2024-04-09T15:42:39.816547Z"
    },
    "papermill": {
     "duration": 2.327339,
     "end_time": "2024-04-09T15:42:39.821275",
     "exception": false,
     "start_time": "2024-04-09T15:42:37.493936",
     "status": "completed"
    },
    "tags": []
   },
   "outputs": [
    {
     "name": "stdout",
     "output_type": "stream",
     "text": [
      "0.9393939393939394\n"
     ]
    }
   ],
   "source": [
    "# 0. básico\n",
    "import numpy as np\n",
    "from sklearn.tree import DecisionTreeClassifier\n",
    "\n",
    "# 1. random seed\n",
    "rng = np.random.RandomState(seed=101)\n",
    "\n",
    "def bagging_fit(X, y, n_estimators, max_depth=5, max_samples=200):\n",
    "    n_examples = len(y)\n",
    "    estimators = [DecisionTreeClassifier(max_depth=max_depth) for _ in range(n_estimators)]\n",
    "    \n",
    "    for tree in estimators:\n",
    "        bag =np.random.choice(n_examples, max_samples, replace=True)\n",
    "        \n",
    "        tree.fit(X[bag, :], y[bag])\n",
    "        \n",
    "    return estimators\n",
    "\n",
    "'''\n",
    "This function will return a list of DecisionTreeClassifier objects. We can use this\n",
    "ensemble for prediction, which is implemented in the following listing.\n",
    "'''\n",
    "\n",
    "# 2. prediction\n",
    "from scipy.stats import mode\n",
    "\n",
    "def bagging_predict(X, estimators):\n",
    "    all_predictions = np.array([tree.predict(X) for tree in estimators])\n",
    "    \n",
    "    y_pred, _ = mode(all_predictions, axis=0, keepdims=False)\n",
    "    \n",
    "    return np.squeeze(y_pred)\n",
    "\n",
    "# 3. teste\n",
    "from sklearn.datasets import make_moons\n",
    "from sklearn.model_selection import train_test_split\n",
    "from sklearn.metrics import accuracy_score\n",
    "\n",
    "X, y = make_moons(n_samples=300, noise=.25, random_state=rng) \n",
    "Xtrn, Xtst, ytrn, ytst = train_test_split(X, y, test_size=0.33,random_state=rng)\n",
    "\n",
    "bag_ens = bagging_fit(Xtrn, ytrn, n_estimators=500, max_depth=12, max_samples=300)\n",
    "ypred = bagging_predict(Xtst, bag_ens) \n",
    "\n",
    "print(accuracy_score(ytst, ypred))"
   ]
  }
 ],
 "metadata": {
  "kaggle": {
   "accelerator": "none",
   "dataSources": [],
   "dockerImageVersionId": 30684,
   "isGpuEnabled": false,
   "isInternetEnabled": true,
   "language": "python",
   "sourceType": "notebook"
  },
  "kernelspec": {
   "display_name": "Python 3",
   "language": "python",
   "name": "python3"
  },
  "language_info": {
   "codemirror_mode": {
    "name": "ipython",
    "version": 3
   },
   "file_extension": ".py",
   "mimetype": "text/x-python",
   "name": "python",
   "nbconvert_exporter": "python",
   "pygments_lexer": "ipython3",
   "version": "3.10.13"
  },
  "papermill": {
   "default_parameters": {},
   "duration": 5.701714,
   "end_time": "2024-04-09T15:42:40.345593",
   "environment_variables": {},
   "exception": null,
   "input_path": "__notebook__.ipynb",
   "output_path": "__notebook__.ipynb",
   "parameters": {},
   "start_time": "2024-04-09T15:42:34.643879",
   "version": "2.5.0"
  }
 },
 "nbformat": 4,
 "nbformat_minor": 5
}
